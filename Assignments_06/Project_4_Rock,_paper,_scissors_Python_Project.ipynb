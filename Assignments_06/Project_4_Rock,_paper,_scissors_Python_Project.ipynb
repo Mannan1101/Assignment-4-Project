{
  "nbformat": 4,
  "nbformat_minor": 0,
  "metadata": {
    "colab": {
      "provenance": []
    },
    "kernelspec": {
      "name": "python3",
      "display_name": "Python 3"
    },
    "language_info": {
      "name": "python"
    }
  },
  "cells": [
    {
      "cell_type": "code",
      "execution_count": null,
      "metadata": {
        "id": "sAgBLuqUF4Ek"
      },
      "outputs": [],
      "source": []
    },
    {
      "cell_type": "markdown",
      "source": [
        "Rock, paper, scissors Python Project\n",
        "In this project you will work with random.choice(), if statements, and getting user input. This is a great project to help you build on the fundamentals like conditionals and functions"
      ],
      "metadata": {
        "id": "lpyzSEfhGYP_"
      }
    },
    {
      "cell_type": "code",
      "source": [
        "import random\n",
        "\n",
        "def play():\n",
        "    user = input(\"Choose rock, paper, or scissors: \").lower()\n",
        "    options = ['rock', 'paper', 'scissors']\n",
        "    computer = random.choice(options)\n",
        "\n",
        "    print(f\"Computer chose: {computer}\")\n",
        "\n",
        "    if user not in options:\n",
        "        return \"Invalid input. Please choose rock, paper, or scissors.\"\n",
        "\n",
        "    if user == computer:\n",
        "        return \"It's a tie!\"\n",
        "\n",
        "    # Rules: rock > scissors, scissors > paper, paper > rock\n",
        "    if (user == 'rock' and computer == 'scissors') or \\\n",
        "       (user == 'scissors' and computer == 'paper') or \\\n",
        "       (user == 'paper' and computer == 'rock'):\n",
        "        return \"You win!\"\n",
        "    else:\n",
        "        return \"You lose!\"\n",
        "\n",
        "# Play the game\n",
        "print(play())\n"
      ],
      "metadata": {
        "id": "RGnroBeEGdDf",
        "outputId": "84acb454-34e2-4796-c080-afd807de5bee",
        "colab": {
          "base_uri": "https://localhost:8080/"
        }
      },
      "execution_count": null,
      "outputs": [
        {
          "output_type": "stream",
          "name": "stdout",
          "text": [
            "Choose rock, paper, or scissors: paper\n",
            "Computer chose: paper\n",
            "It's a tie!\n"
          ]
        }
      ]
    }
  ]
}