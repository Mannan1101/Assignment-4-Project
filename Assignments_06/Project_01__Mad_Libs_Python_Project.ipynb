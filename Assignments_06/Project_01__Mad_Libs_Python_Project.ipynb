{
  "nbformat": 4,
  "nbformat_minor": 0,
  "metadata": {
    "colab": {
      "provenance": []
    },
    "kernelspec": {
      "name": "python3",
      "display_name": "Python 3"
    },
    "language_info": {
      "name": "python"
    }
  },
  "cells": [
    {
      "cell_type": "code",
      "execution_count": null,
      "metadata": {
        "id": "sb1erxZ38uVH"
      },
      "outputs": [],
      "source": []
    },
    {
      "cell_type": "markdown",
      "source": [
        "Mad libs Python Project\n",
        "In this project you will learn how to get input from the user, work with f-strings, and see your results printed to the console.\n",
        "\n",
        "This is a great starter project to get comfortable doing string concatenation in Python."
      ],
      "metadata": {
        "id": "bIZV0YZs9d4I"
      }
    },
    {
      "cell_type": "code",
      "source": [
        "# Mad Libs Game - A fun way to learn string formatting in Python\n",
        "\n",
        "# Getting user inputs\n",
        "name = input(\"Enter a name: \")\n",
        "place = input(\"Enter a place: \")\n",
        "adjective = input(\"Enter an adjective: \")\n",
        "noun = input(\"Enter a noun: \")\n",
        "verb = input(\"Enter a verb: \")\n",
        "\n",
        "# Creating the Mad Lib using an f-string\n",
        "mad_lib = f\"\"\"\n",
        "One day, {name} went to {place}.\n",
        "It was a very {adjective} day.\n",
        "Suddenly, they saw a {noun} and decided to {verb} with it.\n",
        "Everyone around was surprised, but {name} had the best time ever!\n",
        "\"\"\"\n",
        "\n",
        "# Printing the result\n",
        "print(\"\\nHere's your Mad Lib story:\")\n",
        "print(mad_lib)\n"
      ],
      "metadata": {
        "colab": {
          "base_uri": "https://localhost:8080/"
        },
        "id": "KM8MMXDw9qH3",
        "outputId": "d6133e3d-38d2-4dcb-c2e1-8acbc9796389"
      },
      "execution_count": null,
      "outputs": [
        {
          "output_type": "stream",
          "name": "stdout",
          "text": [
            "Enter a name: Abdul Mannan\n",
            "Enter a place: karachi Zoo\n",
            "Enter an adjective: Rainy Day\n",
            "Enter a noun: Elephant\n",
            "Enter a verb: Ride\n",
            "\n",
            "Here's your Mad Lib story:\n",
            "\n",
            "One day, Abdul Mannan went to karachi Zoo. \n",
            "It was a very Rainy Day day. \n",
            "Suddenly, they saw a Elephant and decided to Ride with it.\n",
            "Everyone around was surprised, but Abdul Mannan had the best time ever!\n",
            "\n"
          ]
        }
      ]
    }
  ]
}