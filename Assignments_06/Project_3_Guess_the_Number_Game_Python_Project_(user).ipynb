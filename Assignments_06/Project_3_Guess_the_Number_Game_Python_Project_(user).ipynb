{
  "nbformat": 4,
  "nbformat_minor": 0,
  "metadata": {
    "colab": {
      "provenance": []
    },
    "kernelspec": {
      "name": "python3",
      "display_name": "Python 3"
    },
    "language_info": {
      "name": "python"
    }
  },
  "cells": [
    {
      "cell_type": "markdown",
      "source": [
        " you will build a guessing game where the computer has to guess the correct number. You will work with Python's random module, build functions, work with while loops and conditionals, and get user input."
      ],
      "metadata": {
        "id": "IIuLnyQxE4bq"
      }
    },
    {
      "cell_type": "code",
      "source": [
        "def guess_the_number():\n",
        "    print(\"Welcome to the Guess the Number Game!\")\n",
        "    print(\"Think of a number between 1 and 100, and I will try to guess it.\")\n",
        "    print(\"Provide feedback: 'h' if my guess is too high, 'l' if it's too low, or 'c' if I guessed correctly.\\n\")\n",
        "\n",
        "    low = 1\n",
        "    high = 100\n",
        "    attempts = 0\n",
        "\n",
        "    while True:\n",
        "        # Computer makes a guess\n",
        "        guess = (low + high) // 2\n",
        "        attempts += 1\n",
        "        print(f\"My guess is: {guess}\")\n",
        "\n",
        "        # Get feedback from the user\n",
        "        feedback = input(\"Is my guess too high (h), too low (l), or correct (c)? \").lower()\n",
        "\n",
        "        if feedback == 'h':\n",
        "            high = guess - 1  # Adjust the upper bound\n",
        "        elif feedback == 'l':\n",
        "            low = guess + 1  # Adjust the lower bound\n",
        "        elif feedback == 'c':\n",
        "            print(f\"Yay! I guessed your number {guess} in {attempts} attempts!\")\n",
        "            break\n",
        "        else:\n",
        "            print(\"Invalid input. Please enter 'h', 'l', or 'c'.\")\n",
        "\n",
        "if __name__ == \"__main__\":\n",
        "    guess_the_number()\n"
      ],
      "metadata": {
        "colab": {
          "base_uri": "https://localhost:8080/"
        },
        "id": "mkKewsrbE6F_",
        "outputId": "5ad896be-8335-485b-b60d-af413504a480"
      },
      "execution_count": null,
      "outputs": [
        {
          "output_type": "stream",
          "name": "stdout",
          "text": [
            "Welcome to the Guess the Number Game!\n",
            "Think of a number between 1 and 100, and I will try to guess it.\n",
            "Provide feedback: 'h' if my guess is too high, 'l' if it's too low, or 'c' if I guessed correctly.\n",
            "\n",
            "My guess is: 50\n",
            "Is my guess too high (h), too low (l), or correct (c)? 28\n",
            "Invalid input. Please enter 'h', 'l', or 'c'.\n",
            "My guess is: 50\n",
            "Is my guess too high (h), too low (l), or correct (c)? 54\n",
            "Invalid input. Please enter 'h', 'l', or 'c'.\n",
            "My guess is: 50\n",
            "Is my guess too high (h), too low (l), or correct (c)? 8\n",
            "Invalid input. Please enter 'h', 'l', or 'c'.\n",
            "My guess is: 50\n"
          ]
        }
      ]
    }
  ]
}