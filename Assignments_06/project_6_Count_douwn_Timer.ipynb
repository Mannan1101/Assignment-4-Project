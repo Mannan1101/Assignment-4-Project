{
  "nbformat": 4,
  "nbformat_minor": 0,
  "metadata": {
    "colab": {
      "provenance": []
    },
    "kernelspec": {
      "name": "python3",
      "display_name": "Python 3"
    },
    "language_info": {
      "name": "python"
    }
  },
  "cells": [
    {
      "cell_type": "markdown",
      "source": [
        "Countdown Timer Python Project\n",
        "In this project, you will learn how to build a countdown timer using the time Python module. This is a great beginner project to get you used to working with while loops in Python."
      ],
      "metadata": {
        "id": "4oppJglPIvwL"
      }
    },
    {
      "cell_type": "code",
      "source": [
        "import time\n",
        "\n",
        "def countdown_timer(seconds):\n",
        "    while seconds > 0:\n",
        "        mins, secs = divmod(seconds, 60)\n",
        "        timer = f'{mins:02d}:{secs:02d}'\n",
        "        print(timer, end='\\r')  # overwrite the same line\n",
        "        time.sleep(1)\n",
        "        seconds -= 1\n",
        "\n",
        "    print(\"Time's up!\")\n",
        "\n",
        "# Example: 1-minute countdown (60 seconds)\n",
        "try:\n",
        "    total_seconds = int(input(\"Enter time in seconds: \"))\n",
        "    countdown_timer(total_seconds)\n",
        "except ValueError:\n",
        "    print(\"Please enter a valid number.\")\n"
      ],
      "metadata": {
        "id": "BxNa-45vIwUR",
        "outputId": "70ca84d1-19b5-415e-b82a-d2db3733dd15",
        "colab": {
          "base_uri": "https://localhost:8080/"
        }
      },
      "execution_count": null,
      "outputs": [
        {
          "output_type": "stream",
          "name": "stdout",
          "text": [
            "Enter time in seconds: 04\n",
            "Time's up!\n"
          ]
        }
      ]
    }
  ]
}