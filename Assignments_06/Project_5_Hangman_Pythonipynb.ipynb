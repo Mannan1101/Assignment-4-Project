{
  "nbformat": 4,
  "nbformat_minor": 0,
  "metadata": {
    "colab": {
      "provenance": []
    },
    "kernelspec": {
      "name": "python3",
      "display_name": "Python 3"
    },
    "language_info": {
      "name": "python"
    }
  },
  "cells": [
    {
      "cell_type": "code",
      "execution_count": null,
      "metadata": {
        "id": "mlPDhxF0HOhP"
      },
      "outputs": [],
      "source": []
    },
    {
      "cell_type": "markdown",
      "source": [
        "Hangman Python Proje you will learn how to work with dictionaries, lists, and nested if statements. You will also learn how to work with the string and random Python modules."
      ],
      "metadata": {
        "id": "LFABMyWdHoqh"
      }
    },
    {
      "cell_type": "code",
      "source": [
        "import random\n",
        "import string\n",
        "\n",
        "def get_valid_word(words):\n",
        "    word = random.choice(words)\n",
        "    while '-' in word or ' ' in word:\n",
        "        word = random.choice(words)\n",
        "    return word.upper()\n",
        "\n",
        "def hangman():\n",
        "    words = ['python', 'hangman', 'challenge', 'developer', 'keyboard']\n",
        "    word = get_valid_word(words)\n",
        "    word_letters = set(word)  # letters in the word\n",
        "    alphabet = set(string.ascii_uppercase)\n",
        "    used_letters = set()  # what the user has guessed\n",
        "\n",
        "    lives = 6\n",
        "\n",
        "    # Game loop\n",
        "    while len(word_letters) > 0 and lives > 0:\n",
        "        print(f\"\\nYou have {lives} lives left. You have used these letters: {' '.join(used_letters)}\")\n",
        "\n",
        "        # Display current word with dashes\n",
        "        word_display = [letter if letter in used_letters else '-' for letter in word]\n",
        "        print(\"Current word: \", ' '.join(word_display))\n",
        "\n",
        "        user_letter = input(\"Guess a letter: \").upper()\n",
        "        if user_letter in alphabet - used_letters:\n",
        "            used_letters.add(user_letter)\n",
        "            if user_letter in word_letters:\n",
        "                word_letters.remove(user_letter)\n",
        "                print(f\"Good guess!\")\n",
        "            else:\n",
        "                lives -= 1\n",
        "                print(f\"Wrong guess. You lost a life.\")\n",
        "        elif user_letter in used_letters:\n",
        "            print(\"You already guessed that letter.\")\n",
        "        else:\n",
        "            print(\"Invalid character. Please try again.\")\n",
        "\n",
        "    # End of game\n",
        "    if lives == 0:\n",
        "        print(f\"\\nYou died, sorry. The word was: {word}\")\n",
        "    else:\n",
        "        print(f\"\\nYou guessed the word {word}! Congratulations!\")\n",
        "\n",
        "# Run the game\n",
        "hangman()\n"
      ],
      "metadata": {
        "id": "uuN4DMn1Hs43",
        "outputId": "d4e0c656-5973-49d5-fdf0-2743b742ac74",
        "colab": {
          "base_uri": "https://localhost:8080/"
        }
      },
      "execution_count": null,
      "outputs": [
        {
          "metadata": {
            "tags": null
          },
          "name": "stdout",
          "output_type": "stream",
          "text": [
            "\n",
            "You have 6 lives left. You have used these letters: \n",
            "Current word:  - - - - - - -\n",
            "Invalid character. Please try again.\n",
            "\n",
            "You have 6 lives left. You have used these letters: \n",
            "Current word:  - - - - - - -\n",
            "Good guess!\n",
            "\n",
            "You have 6 lives left. You have used these letters: M\n",
            "Current word:  - - - - M - -\n",
            "Good guess!\n",
            "\n",
            "You have 6 lives left. You have used these letters: A M\n",
            "Current word:  - A - - M A -\n"
          ]
        }
      ]
    }
  ]
}