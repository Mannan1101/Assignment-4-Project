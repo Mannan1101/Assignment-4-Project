{
  "cells": [
    {
      "cell_type": "markdown",
      "metadata": {
        "id": "XjDRHCBuDD8p"
      },
      "source": [
        "\n",
        "you will learn how to work with Python's random module, build functions, work with while loops and conditionals, and get user input.\n",
        "\n",
        "Guess the Number\n"
      ]
    },
    {
      "cell_type": "code",
      "execution_count": null,
      "metadata": {
        "colab": {
          "background_save": true,
          "base_uri": "https://localhost:8080/"
        },
        "id": "1vYUJx-kAAUi",
        "outputId": "8c212f69-19c4-4622-a17f-d7ab6ca2a649"
      },
      "outputs": [
        {
          "name": "stdout",
          "output_type": "stream",
          "text": [
            "Welcome to the Guess the Number Game!\n",
            "I have selected a number between 1 and 100. Can you guess it?\n",
            "\n",
            "Too low! Try again.\n",
            "Too high! Try again.\n",
            "Too high! Try again.\n",
            "Too low! Try again.\n",
            "Too low! Try again.\n"
          ]
        }
      ],
      "source": [
        "import random\n",
        "\n",
        "def guess_the_number():\n",
        "    print(\"Welcome to the Guess the Number Game!\")\n",
        "    print(\"I have selected a number between 1 and 100. Can you guess it?\\n\")\n",
        "\n",
        "    # Generate a random number between 1 and 100\n",
        "    number_to_guess = random.randint(1, 100)\n",
        "    attempts = 0\n",
        "\n",
        "    while True:\n",
        "        try:\n",
        "            # Ask the user for their guess\n",
        "            user_guess = int(input(\"Enter your guess: \"))\n",
        "            attempts += 1\n",
        "\n",
        "            # Check the guess\n",
        "            if user_guess < number_to_guess:\n",
        "                print(\"Too low! Try again.\")\n",
        "            elif user_guess > number_to_guess:\n",
        "                print(\"Too high! Try again.\")\n",
        "            else:\n",
        "                print(f\"Congratulations! You guessed the number in {attempts} attempts.\")\n",
        "                break\n",
        "        except ValueError:\n",
        "            print(\"Invalid input! Please enter a valid number.\")\n",
        "\n",
        "if __name__ == \"__main__\":\n",
        "    guess_the_number()\n"
      ]
    }
  ],
  "metadata": {
    "colab": {
      "provenance": []
    },
    "kernelspec": {
      "display_name": "Python 3",
      "name": "python3"
    },
    "language_info": {
      "name": "python"
    }
  },
  "nbformat": 4,
  "nbformat_minor": 0
}