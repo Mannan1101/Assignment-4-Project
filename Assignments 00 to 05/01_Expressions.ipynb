{
  "nbformat": 4,
  "nbformat_minor": 0,
  "metadata": {
    "colab": {
      "provenance": []
    },
    "kernelspec": {
      "name": "python3",
      "display_name": "Python 3"
    },
    "language_info": {
      "name": "python"
    }
  },
  "cells": [
    {
      "cell_type": "markdown",
      "source": [
        "# 01_expressions"
      ],
      "metadata": {
        "id": "n_3VcfFlF_Yx"
      }
    },
    {
      "cell_type": "code",
      "source": [
        "# 01_dicesimulator.md\n",
        "\n",
        "import random\n",
        "\n",
        "def roll_dice():\n",
        "\n",
        "    die1 = random.randint(1, 6)\n",
        "    die2 = random.randint(1, 6)\n",
        "    print(\"Die 1:\", die1, \"Die 2:\", die2)\n",
        "\n",
        "def main():\n",
        "    print(\"Rolling two dice three times...\\n\")\n",
        "    roll_dice()  # First roll\n",
        "    roll_dice()  # Second roll\n",
        "    roll_dice()  # Third roll\n",
        "\n",
        "\n",
        "if __name__ == \"__main__\":\n",
        "    main()\n"
      ],
      "metadata": {
        "colab": {
          "base_uri": "https://localhost:8080/"
        },
        "id": "kJzkdZIVGBHa",
        "outputId": "7517721a-0a71-428c-a357-e292d23a76c7"
      },
      "execution_count": null,
      "outputs": [
        {
          "output_type": "stream",
          "name": "stdout",
          "text": [
            "Rolling two dice three times...\n",
            "\n",
            "Die 1: 1 Die 2: 5\n",
            "Die 1: 4 Die 2: 1\n",
            "Die 1: 3 Die 2: 1\n"
          ]
        }
      ]
    },
    {
      "cell_type": "code",
      "source": [
        "# 02_e=mc2.md\n",
        "\n",
        "def main():\n",
        "\n",
        "    C = 299792458\n",
        "\n",
        "    mass = float(input(\"Enter kilos of mass: \"))\n",
        "\n",
        "\n",
        "    energy = mass * C**2\n",
        "\n",
        "    print(\"\\ne = m * C^2...\")\n",
        "    print(\"m =\", mass, \"kg\")\n",
        "    print(\"C =\", C, \"m/s\")\n",
        "    print(f\"{energy} joules of energy!\")\n",
        "\n",
        "\n",
        "if __name__ == \"__main__\":\n",
        "    main()\n"
      ],
      "metadata": {
        "colab": {
          "base_uri": "https://localhost:8080/"
        },
        "id": "X6Yb5OOGGpoj",
        "outputId": "7ce46362-2423-458a-d0a2-5ecf7ae7c9d5"
      },
      "execution_count": null,
      "outputs": [
        {
          "output_type": "stream",
          "name": "stdout",
          "text": [
            "Enter kilos of mass: 44\n",
            "\n",
            "e = m * C^2...\n",
            "m = 44.0 kg\n",
            "C = 299792458 m/s\n",
            "3.9545227864419973e+18 joules of energy!\n"
          ]
        }
      ]
    },
    {
      "cell_type": "code",
      "source": [
        "# 03_feet_to_inches.md\n",
        "\n",
        "def main():\n",
        "    feet = float(input(\"Enter length in feet: \"))\n",
        "    inches = feet * 12\n",
        "    print(f\"{feet} feet is {inches} inches.\")\n",
        "\n",
        "if __name__ == \"__main__\":\n",
        "    main()\n"
      ],
      "metadata": {
        "colab": {
          "base_uri": "https://localhost:8080/"
        },
        "id": "Pgnuh484HOwl",
        "outputId": "b543a9e7-abbb-491a-cb0a-8dbdbe6cb11a"
      },
      "execution_count": null,
      "outputs": [
        {
          "output_type": "stream",
          "name": "stdout",
          "text": [
            "Enter length in feet: 3\n",
            "3.0 feet is 36.0 inches.\n"
          ]
        }
      ]
    },
    {
      "cell_type": "code",
      "source": [
        "# 04_pythagorean_theorem.md\n",
        "\n",
        "import math\n",
        "\n",
        "def main():\n",
        "\n",
        "    ab = float(input(\"Enter the length of AB: \"))\n",
        "    ac = float(input(\"Enter the length of AC: \"))\n",
        "    bc = math.sqrt(ab**2 + ac**2)\n",
        "    print(\"The length of BC (the hypotenuse) is:\", bc)\n",
        "\n",
        "if __name__ == \"__main__\":\n",
        "    main()\n"
      ],
      "metadata": {
        "colab": {
          "base_uri": "https://localhost:8080/"
        },
        "id": "4eUF1W1FHkp2",
        "outputId": "9af2f4d2-fcbb-424f-8adf-75da75597b7a"
      },
      "execution_count": null,
      "outputs": [
        {
          "output_type": "stream",
          "name": "stdout",
          "text": [
            "Enter the length of AB: 33\n",
            "Enter the length of AC: 56\n",
            "The length of BC (the hypotenuse) is: 65.0\n"
          ]
        }
      ]
    },
    {
      "cell_type": "code",
      "source": [
        "# 05_remainder_division.md\n",
        "\n",
        "def main():\n",
        "\n",
        "    numerator = int(input(\"Please enter an integer to be divided: \"))\n",
        "    denominator = int(input(\"Please enter an integer to divide by: \"))\n",
        "\n",
        "    quotient = numerator // denominator\n",
        "    remainder = numerator % denominator\n",
        "\n",
        "    print(f\"The result of this division is {quotient} with a remainder of {remainder}\")\n",
        "\n",
        "if __name__ == \"__main__\":\n",
        "    main()\n"
      ],
      "metadata": {
        "colab": {
          "base_uri": "https://localhost:8080/"
        },
        "id": "A7NmqGlJIChk",
        "outputId": "d7394da9-844b-444b-83d9-72d10d1f64b6"
      },
      "execution_count": null,
      "outputs": [
        {
          "output_type": "stream",
          "name": "stdout",
          "text": [
            "Please enter an integer to be divided: 23\n",
            "Please enter an integer to divide by: 5\n",
            "The result of this division is 4 with a remainder of 3\n"
          ]
        }
      ]
    },
    {
      "cell_type": "code",
      "source": [
        "# 06_rolldice.md\n",
        "\n",
        "import random\n",
        "\n",
        "def main():\n",
        "    die1 = random.randint(1, 6)\n",
        "    die2 = random.randint(1, 6)\n",
        "\n",
        "    total = die1 + die2\n",
        "\n",
        "    print(f\"Die 1: {die1}\")\n",
        "    print(f\"Die 2: {die2}\")\n",
        "    print(f\"Total: {total}\")\n",
        "\n",
        "if __name__ == \"__main__\":\n",
        "    main()\n"
      ],
      "metadata": {
        "colab": {
          "base_uri": "https://localhost:8080/"
        },
        "id": "eTepXS24Igql",
        "outputId": "2666bf91-b134-4452-979f-c12dbd6ba0b1"
      },
      "execution_count": null,
      "outputs": [
        {
          "output_type": "stream",
          "name": "stdout",
          "text": [
            "Die 1: 3\n",
            "Die 2: 6\n",
            "Total: 9\n"
          ]
        }
      ]
    },
    {
      "cell_type": "code",
      "source": [
        "# 06_seconds_in_year.md\n",
        "\n",
        "DAYS_PER_YEAR: int = 365\n",
        "HOURS_PER_DAY: int = 24\n",
        "MIN_PER_HOUR: int = 60\n",
        "SEC_PER_MIN: int = 60\n",
        "\n",
        "def main():\n",
        "\n",
        "    seconds_per_year = DAYS_PER_YEAR * HOURS_PER_DAY * MIN_PER_HOUR * SEC_PER_MIN\n",
        "\n",
        "\n",
        "    print(\"There are\", seconds_per_year, \"seconds in a year!\")\n",
        "\n",
        "\n",
        "if __name__ == '__main__':\n",
        "    main()\n",
        "\n",
        "\n"
      ],
      "metadata": {
        "colab": {
          "base_uri": "https://localhost:8080/"
        },
        "id": "8FDiPPLxMeNp",
        "outputId": "abf3dcd4-a469-4531-d793-883e811a3035"
      },
      "execution_count": null,
      "outputs": [
        {
          "output_type": "stream",
          "name": "stdout",
          "text": [
            "There are 31536000 seconds in a year!\n"
          ]
        }
      ]
    },
    {
      "cell_type": "code",
      "source": [
        "# 07_tiny_mad_lib.md\n",
        "\n",
        "SENTENCE_START: str = \"Panaversity is fun. I learned to program and used Python to make my \"\n",
        "\n",
        "def main():\n",
        "\n",
        "    adjective: str = input(\"Please type an adjective and press enter. \")\n",
        "    noun: str = input(\"Please type a noun and press enter. \")\n",
        "    verb: str = input(\"Please type a verb and press enter. \")\n",
        "\n",
        "\n",
        "    print(SENTENCE_START + adjective + \" \" + noun + \" \" + verb + \"!\")\n",
        "\n",
        "\n",
        "if __name__ == '__main__':\n",
        "    main()\n",
        "\n"
      ],
      "metadata": {
        "id": "xjLdWBQiNU87"
      },
      "execution_count": null,
      "outputs": []
    }
  ]
}