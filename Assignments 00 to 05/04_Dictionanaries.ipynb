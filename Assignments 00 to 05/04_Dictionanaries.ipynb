{
  "nbformat": 4,
  "nbformat_minor": 0,
  "metadata": {
    "colab": {
      "provenance": []
    },
    "kernelspec": {
      "name": "python3",
      "display_name": "Python 3"
    },
    "language_info": {
      "name": "python"
    }
  },
  "cells": [
    {
      "cell_type": "markdown",
      "source": [
        "04_dictionaries"
      ],
      "metadata": {
        "id": "dkaVYzJUmKEw"
      }
    },
    {
      "cell_type": "code",
      "source": [
        "# 00_count_nums.md\n",
        "\n",
        "def get_user_numbers():\n",
        "    \"\"\"\n",
        "    Prompt the user to enter numbers one at a time.\n",
        "    Stops when the user enters a blank line.\n",
        "    Returns a list of the entered numbers.\n",
        "    \"\"\"\n",
        "    user_numbers = []\n",
        "    while True:\n",
        "        user_input = input(\"Enter a number: \")\n",
        "        if user_input == \"\":\n",
        "            break\n",
        "        try:\n",
        "            num = int(user_input)\n",
        "            user_numbers.append(num)\n",
        "        except ValueError:\n",
        "            print(\"Please enter a valid number.\")\n",
        "    return user_numbers\n",
        "\n",
        "\n",
        "def count_nums(num_lst):\n",
        "    \"\"\"\n",
        "    Counts how many times each number appears in the list.\n",
        "    Returns a dictionary where the keys are numbers and the values are counts.\n",
        "    \"\"\"\n",
        "    num_dict = {}\n",
        "    for num in num_lst:\n",
        "        if num in num_dict:\n",
        "            num_dict[num] += 1\n",
        "        else:\n",
        "            num_dict[num] = 1\n",
        "    return num_dict\n",
        "\n",
        "\n",
        "def print_counts(num_dict):\n",
        "    \"\"\"\n",
        "    Prints how many times each number appeared.\n",
        "    \"\"\"\n",
        "    for num in num_dict:\n",
        "        print(f\"{num} appears {num_dict[num]} times.\")\n",
        "\n",
        "\n",
        "def main():\n",
        "    user_numbers = get_user_numbers()\n",
        "    num_dict = count_nums(user_numbers)\n",
        "    print_counts(num_dict)\n",
        "\n",
        "\n",
        "if __name__ == '__main__':\n",
        "    main()\n"
      ],
      "metadata": {
        "colab": {
          "base_uri": "https://localhost:8080/"
        },
        "id": "wwqLOyCAmPG0",
        "outputId": "0fb2c9f5-0320-4943-c1e7-222cffa761e5"
      },
      "execution_count": null,
      "outputs": [
        {
          "output_type": "stream",
          "name": "stdout",
          "text": [
            "Enter a number: 1\n",
            "Enter a number: 8\n",
            "Enter a number: 9\n",
            "Enter a number: \n",
            "1 appears 1 times.\n",
            "8 appears 1 times.\n",
            "9 appears 1 times.\n"
          ]
        }
      ]
    },
    {
      "cell_type": "code",
      "source": [
        "# 01_phonebook.md\n",
        "\n",
        "def read_phone_numbers():\n",
        "\n",
        "    phonebook = {}\n",
        "\n",
        "    while True:\n",
        "        name = input(\"Name: \")\n",
        "        if name == \"\":\n",
        "            break\n",
        "        number = input(\"Number: \")\n",
        "        phonebook[name] = number\n",
        "\n",
        "    return phonebook\n",
        "\n",
        "\n",
        "def print_phonebook(phonebook):\n",
        "\n",
        "    print(\"\\nPhonebook entries:\")\n",
        "    for name in phonebook:\n",
        "        print(f\"{name} -> {phonebook[name]}\")\n",
        "\n",
        "\n",
        "def lookup_numbers(phonebook):\n",
        "\n",
        "    print(\"\\nPhonebook lookup:\")\n",
        "    while True:\n",
        "        name = input(\"Enter name to lookup: \")\n",
        "        if name == \"\":\n",
        "            break\n",
        "        if name in phonebook:\n",
        "            print(f\"{name}'s number is {phonebook[name]}\")\n",
        "        else:\n",
        "            print(f\"{name} is not in the phonebook.\")\n",
        "\n",
        "\n",
        "def main():\n",
        "    phonebook = read_phone_numbers()\n",
        "    print_phonebook(phonebook)\n",
        "    lookup_numbers(phonebook)\n",
        "\n",
        "\n",
        "# Python boilerplate.\n",
        "if __name__ == '__main__':\n",
        "    main()\n"
      ],
      "metadata": {
        "id": "9r89N5yhnfwT"
      },
      "execution_count": null,
      "outputs": []
    },
    {
      "cell_type": "code",
      "source": [
        "# 02_pop_up_shop.md\n",
        "\n",
        "def main():\n",
        "    # Dictionary with fruit prices\n",
        "    fruits = {\n",
        "        'apple': 1.5,\n",
        "        'durian': 50,\n",
        "        'jackfruit': 80,\n",
        "        'kiwi': 1.6,\n",
        "        'rambutan': 1.5,\n",
        "        'mango': 5\n",
        "    }\n",
        "\n",
        "    total_cost = 0.0\n",
        "\n",
        "    for fruit_name, price in fruits.items():\n",
        "        amount_bought = int(input(f\"How many ({fruit_name}) do you want?: \"))\n",
        "        total_cost += price * amount_bought\n",
        "\n",
        "    print(f\"\\nYour total is ${total_cost:.2f}\")\n",
        "\n",
        "if __name__ == '__main__':\n",
        "    main()\n"
      ],
      "metadata": {
        "id": "YexDSlsAo2iX",
        "colab": {
          "base_uri": "https://localhost:8080/"
        },
        "outputId": "376a78c2-1cda-410c-f8fb-b54a27dc3548"
      },
      "execution_count": null,
      "outputs": [
        {
          "name": "stdout",
          "output_type": "stream",
          "text": [
            "How many (apple) do you want?: 1\n",
            "How many (durian) do you want?: 1\n"
          ]
        }
      ]
    },
    {
      "cell_type": "code",
      "source": [
        "# 03_powerful_passwords.md\n",
        "\n",
        "from hashlib import sha256\n",
        "\n",
        "def hash_password(password):\n",
        "    \"\"\"\n",
        "    Takes in a password and returns the SHA256 hashed value for that password.\n",
        "    \"\"\"\n",
        "    return sha256(password.encode()).hexdigest()\n",
        "\n",
        "def login(email, stored_logins, password_to_check):\n",
        "    \"\"\"\n",
        "    Returns True if the hashed version of the password matches the stored hash for the email.\n",
        "\n",
        "    Parameters:\n",
        "    - email: str, user's email address\n",
        "    - stored_logins: dict, email to hashed password mapping\n",
        "    - password_to_check: str, password input to verify\n",
        "\n",
        "    Returns:\n",
        "    - bool: True if password is correct, False otherwise\n",
        "    \"\"\"\n",
        "    if email not in stored_logins:\n",
        "        return False\n",
        "\n",
        "    return stored_logins[email] == hash_password(password_to_check)\n",
        "\n",
        "def main():\n",
        "    stored_logins = {\n",
        "        \"example@gmail.com\": \"5e884898da28047151d0e56f8dc6292773603d0d6aabbdd62a11ef721d1542d8\",  # password\n",
        "        \"code_in_placer@cip.org\": \"973607a4ae7b4cf7d96a100b0fb07e8519cc4f70441d41214a9f811577bb06cc\",  # Karel\n",
        "        \"student@stanford.edu\": \"882c6df720fd99f5eebb1581a1cf975625cea8a160283011c0b9512bb56c95fb\"  # 123!456?789\n",
        "    }\n",
        "\n",
        "    print(login(\"example@gmail.com\", stored_logins, \"word\"))         # False\n",
        "    print(login(\"example@gmail.com\", stored_logins, \"password\"))     # True\n",
        "\n",
        "    print(login(\"code_in_placer@cip.org\", stored_logins, \"Karel\"))   # True\n",
        "    print(login(\"code_in_placer@cip.org\", stored_logins, \"karel\"))   # False\n",
        "\n",
        "    print(login(\"student@stanford.edu\", stored_logins, \"password\"))  # False\n",
        "    print(login(\"student@stanford.edu\", stored_logins, \"123!456?789\"))  # True\n",
        "\n",
        "if __name__ == '__main__':\n",
        "    main()\n"
      ],
      "metadata": {
        "id": "t8cXGv0Qy6uC",
        "colab": {
          "base_uri": "https://localhost:8080/"
        },
        "outputId": "e0d03b51-5395-438b-b912-32e132fb49a1"
      },
      "execution_count": null,
      "outputs": [
        {
          "output_type": "stream",
          "name": "stdout",
          "text": [
            "False\n",
            "True\n",
            "False\n",
            "True\n",
            "False\n",
            "True\n"
          ]
        }
      ]
    }
  ]
}