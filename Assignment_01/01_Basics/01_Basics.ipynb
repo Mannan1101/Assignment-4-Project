{
  "nbformat": 4,
  "nbformat_minor": 0,
  "metadata": {
    "colab": {
      "provenance": []
    },
    "kernelspec": {
      "name": "python3",
      "display_name": "Python 3"
    },
    "language_info": {
      "name": "python"
    }
  },
  "cells": [
    {
      "cell_type": "code",
      "execution_count": null,
      "metadata": {
        "id": "pyUxTSEEaJtJ"
      },
      "outputs": [],
      "source": [
        "\"GIAIC Assignment-04\"\n",
        "\n",
        "\"Assignment 01\"\n",
        "\n",
        "# 01 Basics"
      ]
    },
    {
      "cell_type": "code",
      "source": [
        "# 00_joke_bot\n",
        "\n",
        "# Constants\n",
        "PROMPT = \"What do you want?\"\n",
        "JOKE = \"Here is a joke for you! Panaversity GPT - Sophia is heading out to the grocery store. A programmer tells her: get a liter of milk, and if they have eggs, get 12. Sophia returns with 13 liters of milk. The programmer asks why and Sophia replies: 'because they had eggs'\"\n",
        "SORRY = \"Sorry I only tell jokes\"\n",
        "\n",
        "def main():\n",
        "    # Asking the user for input\n",
        "    user_input = input(PROMPT)\n",
        "\n",
        "    # Checking if the user input is \"Joke\"\n",
        "    if user_input == \"Joke\":\n",
        "        print(JOKE)  # Print the joke\n",
        "    else:\n",
        "        print(SORRY)  # Print the sorry message\n",
        "\n",
        "# This provided line is required at the end of the file to call the main() function.\n",
        "if __name__ == '__main__':\n",
        "    main()\n",
        "\n"
      ],
      "metadata": {
        "colab": {
          "base_uri": "https://localhost:8080/"
        },
        "id": "StEUgngebpW1",
        "outputId": "9cbec147-bc29-4e27-a31c-dc20c9c27699"
      },
      "execution_count": 9,
      "outputs": [
        {
          "output_type": "stream",
          "name": "stdout",
          "text": [
            "What do you want?Joke\n",
            "Here is a joke for you! Panaversity GPT - Sophia is heading out to the grocery store. A programmer tells her: get a liter of milk, and if they have eggs, get 12. Sophia returns with 13 liters of milk. The programmer asks why and Sophia replies: 'because they had eggs'\n"
          ]
        }
      ]
    },
    {
      "cell_type": "code",
      "source": [
        "# 01_doubble_It\n",
        "\n",
        "def main():\n",
        "    # User se ek number input lena\n",
        "    curr_value = int(input(\"Enter a number: \"))\n",
        "\n",
        "    # Jab tak value 100 se choti hai, tab tak loop chalega\n",
        "    while curr_value < 100:\n",
        "        curr_value = curr_value * 2  # Value ka double karna\n",
        "        print(curr_value, end=\" \")  # Print karna (ek hi line me output dikhane ke liye)\n",
        "\n",
        "# Main function ko call karna\n",
        "if __name__ == '__main__':\n",
        "    main()"
      ],
      "metadata": {
        "colab": {
          "base_uri": "https://localhost:8080/"
        },
        "id": "u_nXM5solRNM",
        "outputId": "9653fc96-a671-4732-9757-67b4d452a23b"
      },
      "execution_count": 13,
      "outputs": [
        {
          "output_type": "stream",
          "name": "stdout",
          "text": [
            "Enter a number: 50\n",
            "100 "
          ]
        }
      ]
    },
    {
      "cell_type": "code",
      "source": [
        "# 02 Liftoff\n",
        "\n",
        "def main():\n",
        "    # Loop 10 se 1 tak count karne ke liye\n",
        "    for i in range(10, 0, -1):  # 10 se 1 tak reverse countdown\n",
        "        print(i, end=\" \")  # Ek hi line me print karna\n",
        "\n",
        "    # Jab countdown khatam ho, tab 'Liftoff!' print karna\n",
        "    print(\"Liftoff!\")\n",
        "\n",
        "# Main function ko call karna\n",
        "if __name__ == '__main__':\n",
        "    main()"
      ],
      "metadata": {
        "colab": {
          "base_uri": "https://localhost:8080/"
        },
        "id": "wa9azlI3l6tc",
        "outputId": "7243f5bc-e523-4467-f756-6459f7c84853"
      },
      "execution_count": 14,
      "outputs": [
        {
          "output_type": "stream",
          "name": "stdout",
          "text": [
            "10 9 8 7 6 5 4 3 2 1 Liftoff!\n"
          ]
        }
      ]
    },
    {
      "cell_type": "code",
      "source": [
        "# 03_guess_my_number\n",
        "\n",
        "import random\n",
        "\n",
        "def main():\n",
        "    secret_number = random.randint(0, 99)  # Random number between 0 and 99\n",
        "    print(\"I am thinking of a number between 0 and 99...\")\n",
        "\n",
        "    while True:\n",
        "        guess = int(input(\"Enter a guess: \"))\n",
        "\n",
        "        if guess > secret_number:\n",
        "            print(\"Your guess is too high\\n\")\n",
        "        elif guess < secret_number:\n",
        "            print(\"Your guess is too low\\n\")\n",
        "        else:\n",
        "            print(f\"Congrats! The number was: {secret_number}\")\n",
        "            break\n",
        "\n",
        "if __name__ == '__main__':\n",
        "    main()\n",
        "\n",
        "\n"
      ],
      "metadata": {
        "colab": {
          "base_uri": "https://localhost:8080/"
        },
        "id": "_gx29HbdmeGs",
        "outputId": "ee337b73-d2d1-4d4b-fbed-1ebe15208eac"
      },
      "execution_count": null,
      "outputs": [
        {
          "output_type": "stream",
          "name": "stdout",
          "text": [
            "I am thinking of a number between 0 and 99...\n"
          ]
        }
      ]
    },
    {
      "cell_type": "code",
      "source": [
        "# 04_Randms_numbers\n",
        "\n",
        "import random\n",
        "\n",
        "N_NUMBERS = 10\n",
        "MIN_VALUE = 1\n",
        "MAX_VALUE = 100\n",
        "\n",
        "def generate_random_numbers():\n",
        "    for _ in range(N_NUMBERS):\n",
        "        print(random.randint(MIN_VALUE, MAX_VALUE), end=\" \")\n",
        "    print()\n",
        "\n",
        "generate_random_numbers()\n",
        "\n",
        "\n"
      ],
      "metadata": {
        "id": "e0QXiDEenCvY"
      },
      "execution_count": null,
      "outputs": []
    }
  ]
}