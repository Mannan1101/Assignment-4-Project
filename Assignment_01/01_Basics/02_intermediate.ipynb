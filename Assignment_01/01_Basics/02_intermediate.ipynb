{
  "cells": [
    {
      "cell_type": "markdown",
      "metadata": {
        "id": "cWJ3_JYurX8z"
      },
      "source": [
        "02_intermeadiate"
      ]
    },
    {
      "cell_type": "markdown",
      "metadata": {
        "id": "s-i-AoY9sOJw"
      },
      "source": [
        "Contrl Flow for console"
      ]
    },
    {
      "cell_type": "code",
      "execution_count": null,
      "metadata": {
        "colab": {
          "base_uri": "https://localhost:8080/"
        },
        "id": "DO7P4Xv8rd27",
        "outputId": "6e03017c-4225-41b9-f3f9-d8dcdb33df5b"
      },
      "outputs": [
        {
          "name": "stdout",
          "output_type": "stream",
          "text": [
            "Welcome to the High-Low Game!\n",
            "--------------------------------\n",
            "Round 1\n",
            "Your number is 82\n",
            "Do you think your number is higher or lower than the computer's? (higher/lower): 83\n",
            "Invalid input! Please enter either 'higher' or 'lower'.\n",
            "Do you think your number is higher or lower than the computer's? (higher/lower): 84\n",
            "Invalid input! Please enter either 'higher' or 'lower'.\n"
          ]
        }
      ],
      "source": [
        "# high_low_game\n",
        "\n",
        "import random\n",
        "\n",
        "NUM_ROUNDS = 5  # Number of rounds to play\n",
        "\n",
        "def main():\n",
        "    print(\"Welcome to the High-Low Game!\")\n",
        "    print(\"--------------------------------\")\n",
        "\n",
        "    score = 0  # Initialize score\n",
        "\n",
        "    for round_num in range(1, NUM_ROUNDS + 1):\n",
        "        print(f\"Round {round_num}\")\n",
        "\n",
        "        user_number = random.randint(1, 100)\n",
        "        computer_number = random.randint(1, 100)\n",
        "\n",
        "        print(f\"Your number is {user_number}\")\n",
        "\n",
        "        # Take valid input from user\n",
        "        while True:\n",
        "            guess = input(\"Do you think your number is higher or lower than the computer's? (higher/lower): \").strip().lower()\n",
        "            if guess in [\"higher\", \"lower\"]:\n",
        "                break\n",
        "            print(\"Invalid input! Please enter either 'higher' or 'lower'.\")\n",
        "\n",
        "        # Determine if the user's guess is correct\n",
        "        if (guess == \"higher\" and user_number > computer_number) or (guess == \"lower\" and user_number < computer_number):\n",
        "            print(\"You were right!\", end=\" \")\n",
        "            score += 1\n",
        "        else:\n",
        "            print(\"Aww, that's incorrect.\", end=\" \")\n",
        "\n",
        "        print(f\"The computer's number was {computer_number}\")\n",
        "        print(f\"Your score is now {score}\\n\")\n",
        "\n",
        "    # Conditional ending messages\n",
        "    print(\"Thanks for playing!\")\n",
        "    if score == NUM_ROUNDS:\n",
        "        print(\"Wow! You played perfectly!\")\n",
        "    elif score >= NUM_ROUNDS // 2:\n",
        "        print(\"Good job, you played really well!\")\n",
        "    else:\n",
        "        print(\"Better luck next time!\")\n",
        "\n",
        "if __name__ == '__main__':\n",
        "    main()"
      ]
    },
    {
      "cell_type": "markdown",
      "metadata": {
        "id": "6Zdk7p6rsYJx"
      },
      "source": [
        "Intro to python"
      ]
    },
    {
      "cell_type": "code",
      "execution_count": null,
      "metadata": {
        "id": "QeQgdu6mr8xk"
      },
      "outputs": [],
      "source": [
        "# mars_weight_solution\n",
        "\n",
        "def main():\n",
        "    # Dictionary to store planet gravity factors\n",
        "    planet_gravity = {\n",
        "        \"Mercury\": 0.376,\n",
        "        \"Venus\": 0.889,\n",
        "        \"Mars\": 0.378,\n",
        "        \"Jupiter\": 2.36,\n",
        "        \"Saturn\": 1.081,\n",
        "        \"Uranus\": 0.815,\n",
        "        \"Neptune\": 1.14\n",
        "    }\n",
        "\n",
        "    # Taking user input\n",
        "    earth_weight = float(input(\"Enter a weight on Earth: \"))\n",
        "    planet = input(\"Enter a planet: \")\n",
        "\n",
        "    # Checking if planet is valid and calculating weight\n",
        "    if planet in planet_gravity:\n",
        "        planet_weight = round(earth_weight * planet_gravity[planet], 2)\n",
        "        print(f\"The equivalent weight on {planet}: {planet_weight}\")\n",
        "    else:\n",
        "        print(\"Invalid planet name. Please enter a valid planet from the solar system.\")\n",
        "\n",
        "# Ensuring main() runs when script is executed\n",
        "if __name__ == \"__main__\":\n",
        "    main()"
      ]
    },
    {
      "cell_type": "markdown",
      "metadata": {
        "id": "1J4txbjRtBXt"
      },
      "source": [
        "List and Dicts"
      ]
    },
    {
      "cell_type": "code",
      "execution_count": null,
      "metadata": {
        "id": "ENWVH1SQtoJm"
      },
      "outputs": [
        {
          "name": "stdout",
          "output_type": "stream",
          "text": [
            "\n",
            "Operations: 1. Access  2. Modify  3. Slice  4. Exit\n"
          ]
        }
      ],
      "source": [
        "# Index Game\n",
        "\n",
        "def access_element(my_list, index):\n",
        "    \"\"\"Returns the element at the given index or an error message.\"\"\"\n",
        "    if 0 <= index < len(my_list):\n",
        "        return f\"Element at index {index}: {my_list[index]}\"\n",
        "    return \"Index out of range!\"\n",
        "\n",
        "def modify_element(my_list, index, new_value):\n",
        "    \"\"\"Modifies the element at the given index or returns an error.\"\"\"\n",
        "    if 0 <= index < len(my_list):\n",
        "        my_list[index] = new_value\n",
        "        return f\"Updated list: {my_list}\"\n",
        "    return \"Index out of range!\"\n",
        "\n",
        "def slice_list(my_list, start, end):\n",
        "    \"\"\"Returns a sliced list with proper index handling.\"\"\"\n",
        "    if 0 <= start < len(my_list) and 0 <= end <= len(my_list):\n",
        "        return f\"Sliced list: {my_list[start:end]}\"\n",
        "    return \"Invalid indices!\"\n",
        "\n",
        "def main():\n",
        "    my_list = [\"apple\", \"banana\", \"cherry\", \"date\", \"elderberry\"]\n",
        "\n",
        "    while True:\n",
        "        print(\"\\nOperations: 1. Access  2. Modify  3. Slice  4. Exit\")\n",
        "        choice = input(\"Choose an operation: \")\n",
        "\n",
        "        if choice == \"1\":\n",
        "            index = int(input(\"Enter index: \"))\n",
        "            print(access_element(my_list, index))\n",
        "\n",
        "        elif choice == \"2\":\n",
        "            index = int(input(\"Enter index: \"))\n",
        "            new_value = input(\"Enter new value: \")\n",
        "            print(modify_element(my_list, index, new_value))\n",
        "\n",
        "        elif choice == \"3\":\n",
        "            start = int(input(\"Enter start index: \"))\n",
        "            end = int(input(\"Enter end index: \"))\n",
        "            print(slice_list(my_list, start, end))\n",
        "\n",
        "        elif choice == \"4\":\n",
        "            print(\"Exiting the game. Goodbye!\")\n",
        "            break\n",
        "\n",
        "        else:\n",
        "            print(\"Invalid choice! Please try again.\")\n",
        "\n",
        "if __name__ == \"__main__\":\n",
        "    main()"
      ]
    },
    {
      "cell_type": "code",
      "execution_count": null,
      "metadata": {
        "id": "EWF5wLpQuARQ"
      },
      "outputs": [
        {
          "name": "stdout",
          "output_type": "stream",
          "text": [
            "Length of fruit list: 5\n",
            "Updated fruit list: ['apple', 'banana', 'orange', 'grape', 'pineapple', 'mango']\n"
          ]
        }
      ],
      "source": [
        "# List_Practice\n",
        "\n",
        "def main():\n",
        "    # Step 1: Create a list with given fruits\n",
        "    fruit_list = ['apple', 'banana', 'orange', 'grape', 'pineapple']\n",
        "\n",
        "    # Step 2: Print the length of the list\n",
        "    print(\"Length of fruit list:\", len(fruit_list))\n",
        "\n",
        "    # Step 3: Add 'mango' at the end of the list\n",
        "    fruit_list.append('mango')\n",
        "\n",
        "    # Step 4: Print the updated list\n",
        "    print(\"Updated fruit list:\", fruit_list)\n",
        "\n",
        "if __name__ == \"__main__\":\n",
        "    main()"
      ]
    }
  ],
  "metadata": {
    "colab": {
      "provenance": []
    },
    "kernelspec": {
      "display_name": "Python 3",
      "name": "python3"
    },
    "language_info": {
      "codemirror_mode": {
        "name": "ipython",
        "version": 3
      },
      "file_extension": ".py",
      "mimetype": "text/x-python",
      "name": "python",
      "nbconvert_exporter": "python",
      "pygments_lexer": "ipython3",
      "version": "3.11.9"
    }
  },
  "nbformat": 4,
  "nbformat_minor": 0
}
